{
  "nbformat": 4,
  "nbformat_minor": 0,
  "metadata": {
    "colab": {
      "provenance": [],
      "mount_file_id": "1n410OPkbev4TTxhK65lMkMEfS5o7i4uA",
      "authorship_tag": "ABX9TyMgkfLjL0NSMSHaI4IPVGtJ",
      "include_colab_link": true
    },
    "kernelspec": {
      "name": "python3",
      "display_name": "Python 3"
    },
    "language_info": {
      "name": "python"
    }
  },
  "cells": [
    {
      "cell_type": "markdown",
      "metadata": {
        "id": "view-in-github",
        "colab_type": "text"
      },
      "source": [
        "<a href=\"https://colab.research.google.com/github/Ubitron360/_here/blob/main/ML620.ipynb\" target=\"_parent\"><img src=\"https://colab.research.google.com/assets/colab-badge.svg\" alt=\"Open In Colab\"/></a>"
      ]
    },
    {
      "cell_type": "code",
      "execution_count": 1,
      "metadata": {
        "id": "cOlkoD1SxUIM"
      },
      "outputs": [],
      "source": [
        "# ML480--------------------import-libs----------------------------------\n",
        "import datetime as dt\n",
        "import numpy as np\n",
        "import matplotlib.pyplot as plt\n",
        "import pandas as pd\n",
        "import pandas_datareader as web\n",
        "\n",
        "from sklearn.preprocessing import MinMaxScaler\n",
        "from sklearn.model_selection import train_test_split\n",
        "from sklearn.metrics import accuracy_score, precision_score, recall_score, f1_score\n",
        "\n",
        "import tensorflow as tf\n",
        "import yfinance as yf"
      ]
    },
    {
      "cell_type": "code",
      "source": [
        "DJA = yf.Ticker('^DJA')\n",
        "DJA.history(period='max').to_csv('DJA.csv')\n",
        "\n",
        "IXIC = yf.Ticker('^IXIC')\n",
        "IXIC.history(period='max').to_csv('IXIC.csv')\n",
        "IXCO = yf.Ticker('^IXCO')\n",
        "IXCO.history(period='max').to_csv('IXCO.csv')\n",
        "IXHC = yf.Ticker('^IXHC')\n",
        "IXHC.history(period='max').to_csv('IXHC.csv')\n",
        "\n",
        "\n",
        "GSPC = yf.Ticker('^GSPC')\n",
        "GSPC.history(period='max').to_csv('GSPC.csv')\n",
        "\n",
        "NYA = yf.Ticker('^NYA')\n",
        "NYA.history(period='max').to_csv('NYA.csv')\n",
        "\n",
        "RUT = yf.Ticker('^RUT')\n",
        "RUT.history(period='max').to_csv('RUT.csv')\n",
        "\n",
        "VIX = yf.Ticker('^VIX')\n",
        "VIX.history(period='max').to_csv('VIX.csv')\n",
        "\n",
        "DAX = yf.Ticker('^GDAXI')\n",
        "DAX.history(period='max').to_csv('GDAXI.csv')\n",
        "\n",
        "FTSE = yf.Ticker('^FTSE')\n",
        "FTSE.history(period='max').to_csv('FTSE.csv')\n",
        "\n",
        "HSI = yf.Ticker('^HSI')\n",
        "HSI.history(period='max').to_csv('HSI.csv')\n",
        "\n",
        "FVX = yf.Ticker('^FVX')\n",
        "FVX.history(period='max').to_csv('FVX.csv')\n",
        "\n",
        "IRX = yf.Ticker('^IRX')\n",
        "IRX.history(period='max').to_csv('IRX.csv')\n",
        "\n",
        "TNX = yf.Ticker('^TNX')\n",
        "TNX.history(period='max').to_csv('TNX.csv')\n",
        "\n",
        "TYX = yf.Ticker('^TYX')\n",
        "TYX.history(period='max').to_csv('TYX.csv')\n",
        "\n",
        "SPX = yf.Ticker('^SPX')\n",
        "SPX.history(period='max').to_csv('SPX.csv')\n",
        "\n",
        "\n",
        "\n",
        "# ---------------------------------------\n",
        "# ---------------------------------------\n",
        "# ---------------------------------------\n",
        "# ---------------------------------------\n",
        "# ---------------------------------------\n",
        "# ---------------------------------------\n",
        "# ---------------------------------------\n",
        "# ---------------------------------------\n",
        "\n",
        "\n",
        "\n",
        "\n"
      ],
      "metadata": {
        "id": "sCN5WRoGPR0k"
      },
      "execution_count": 16,
      "outputs": []
    },
    {
      "cell_type": "code",
      "source": [
        "# ML480--------------------read-transform-data--------------------------\n",
        "\n",
        "# df_train = pd.read_excel('/content/drive/MyDrive/30YR.xlsx', sheet_name='train')\n",
        "# df_test  = pd.read_excel('/content/drive/MyDrive/MARKET_360_.xlsx', sheet_name='test')\n",
        "# df_train = df_train.drop('Date', axis=1)\n",
        "# df_test  = df_test.drop('Date', axis=1)\n",
        "# X_train  = df_train.drop('target', axis=1)\n",
        "# y_train  = df_train['target']\n",
        "# X_test   = df_test.drop('target', axis=1)\n",
        "# y_test   = df_test['target']\n",
        "# scaler_X = MinMaxScaler()\n",
        "# X_train = scaler_X.fit_transform(X_train)\n",
        "# X_test  = scaler_X.fit_transform(X_test)\n",
        "\n",
        "df  = pd.read_excel('/content/drive/MyDrive/1. MAIN/30YR.xlsx', sheet_name='X-train')\n",
        "df  = df.drop('Date', axis=1)\n",
        "\n",
        "dft = pd.read_excel('/content/drive/MyDrive/1. MAIN/30YR.xlsx', sheet_name='X-test')\n",
        "dft = dft.drop('Date', axis=1)\n",
        "\n",
        "df.columns\n",
        "dft.columns"
      ],
      "metadata": {
        "id": "8TSDOYu9x_-W",
        "colab": {
          "base_uri": "https://localhost:8080/"
        },
        "outputId": "d15c8351-1441-4f38-d6ad-457c10e68868"
      },
      "execution_count": 3,
      "outputs": [
        {
          "output_type": "execute_result",
          "data": {
            "text/plain": [
              "Index(['Day', 'Month', 'Year', 'DT Val', 'DJA2', 'DJA22', 'DJA3', 'DJA32',\n",
              "       'DJA4', 'DJA42', 'DJA5', 'DJA52', 'IXIC2', 'IXIC22', 'IXIC3', 'IXIC32',\n",
              "       'IXIC4', 'IXIC42', 'IXIC5', 'IXIC52', 'GSPC2', 'GSPC22', 'GSPC3',\n",
              "       'GSPC32', 'GSPC4', 'GSPC42', 'GSPC5', 'GSPC52', 'NYA2', 'NYA3', 'NYA4',\n",
              "       'NYA5', 'RUT2', 'RUT3', 'RUT4', 'RUT5', 'VIX2', 'VIX3', 'VIX4', 'VIX5',\n",
              "       'GDAXI2', 'GDAXI3', 'GDAXI4', 'GDAXI5', 'FTSE2', 'FTSE3', 'FTSE4',\n",
              "       'FTSE5', 'HSI2', 'HSI22', 'HSI3', 'HSI32', 'HSI4', 'HSI42', 'HSI5',\n",
              "       'HSI52', 'FVX2', 'FVX3', 'FVX4', 'FVX5', 'IRX2', 'IRX3', 'IRX4', 'IRX5',\n",
              "       'TNX2', 'TNX3', 'TNX4', 'TNX5', 'TYX2', 'TYX3', 'TYX4', 'TYX5'],\n",
              "      dtype='object')"
            ]
          },
          "metadata": {},
          "execution_count": 3
        }
      ]
    },
    {
      "cell_type": "code",
      "source": [
        "dft.columns\n",
        "\n",
        "# dft.shape\n",
        "\n",
        "# df.shape"
      ],
      "metadata": {
        "colab": {
          "base_uri": "https://localhost:8080/"
        },
        "id": "Cw4hNAVLSLCH",
        "outputId": "4667f083-0f0f-43bc-dba2-ec0fc844b687"
      },
      "execution_count": 12,
      "outputs": [
        {
          "output_type": "execute_result",
          "data": {
            "text/plain": [
              "Index(['Day', 'Month', 'Year', 'DT Val', 'DJA2', 'DJA22', 'DJA3', 'DJA32',\n",
              "       'DJA4', 'DJA42', 'DJA5', 'DJA52', 'IXIC2', 'IXIC22', 'IXIC3', 'IXIC32',\n",
              "       'IXIC4', 'IXIC42', 'IXIC5', 'IXIC52', 'GSPC2', 'GSPC22', 'GSPC3',\n",
              "       'GSPC32', 'GSPC4', 'GSPC42', 'GSPC5', 'GSPC52', 'NYA2', 'NYA3', 'NYA4',\n",
              "       'NYA5', 'RUT2', 'RUT3', 'RUT4', 'RUT5', 'VIX2', 'VIX3', 'VIX4', 'VIX5',\n",
              "       'GDAXI2', 'GDAXI3', 'GDAXI4', 'GDAXI5', 'FTSE2', 'FTSE3', 'FTSE4',\n",
              "       'FTSE5', 'HSI2', 'HSI22', 'HSI3', 'HSI32', 'HSI4', 'HSI42', 'HSI5',\n",
              "       'HSI52', 'FVX2', 'FVX3', 'FVX4', 'FVX5', 'IRX2', 'IRX3', 'IRX4', 'IRX5',\n",
              "       'TNX2', 'TNX3', 'TNX4', 'TNX5', 'TYX2', 'TYX3', 'TYX4', 'TYX5'],\n",
              "      dtype='object')"
            ]
          },
          "metadata": {},
          "execution_count": 12
        }
      ]
    },
    {
      "cell_type": "code",
      "source": [
        "X = df.drop('IXIC5' , axis=1)\n",
        "X = X .drop('IXIC52', axis=1)\n",
        "y = df['IXIC52']\n",
        "\n",
        "# X = df.drop('IXIC4' , axis=1)\n",
        "# X = X .drop('IXIC42', axis=1)\n",
        "# y = df['IXIC42']\n",
        "\n",
        "# X = df.drop('IXIC3' , axis=1)\n",
        "# X = X .drop('IXIC32', axis=1)\n",
        "# y = df['IXIC32']\n",
        "\n",
        "# X = df.drop('IXIC2' , axis=1)\n",
        "# X = X .drop('IXIC22', axis=1)\n",
        "# y = df['IXIC22']\n",
        "\n",
        "X = MinMaxScaler().fit_transform(X)\n",
        "\n",
        "\n",
        "\n",
        "# ML480-----------------------train-model----------------------------------\n",
        "model = tf.keras.Sequential()\n",
        "model.add(tf.keras.Input(shape=(X.shape[1],)))\n",
        "model.add(tf.keras.layers.Dense(64,  activation='relu'  , use_bias=True,   ) )\n",
        "model.add(tf.keras.layers.Dense(32,  activation='relu'  , use_bias=True,   ) )\n",
        "model.add(tf.keras.layers.Dense(32,  activation='relu'  , use_bias=True,   ) )\n",
        "model.add(tf.keras.layers.Dense(64,  activation='relu'  , use_bias=True,   ) )\n",
        "model.add(tf.keras.layers.Dense(128, activation='relu'  , use_bias=True,  ) )\n",
        "model.add(tf.keras.layers.Dense(128, activation='relu'  , use_bias=True,  ) )\n",
        "model.add(tf.keras.layers.Dense(128, activation='relu'  , use_bias=True,  ) )\n",
        "model.add(tf.keras.layers.Dense(128, activation='relu'  , use_bias=True,  ) )\n",
        "model.add(tf.keras.layers.Dense(64, activation='relu'   , use_bias=True,  ) )\n",
        "model.add(tf.keras.layers.Dense(64, activation='relu'   , use_bias=True,  ) )\n",
        "model.add(tf.keras.layers.Dense(64, activation='relu'   , use_bias=True,  ) )\n",
        "model.add(tf.keras.layers.Dense(32, activation='relu'   , use_bias=True,  ) )\n",
        "model.add(tf.keras.layers.Dense(32, activation='relu'   , use_bias=True,  ) )\n",
        "model.add(tf.keras.layers.Dense(32, activation='relu'   , use_bias=True,  ) )\n",
        "model.add(tf.keras.layers.Dense(16, activation='relu'   , use_bias=True,  ) )\n",
        "model.add(tf.keras.layers.Dense(16, activation='relu'   , use_bias=True,  ) )\n",
        "model.add(tf.keras.layers.Dense(16, activation='relu'   , use_bias=True,  ) )\n",
        "model.add(tf.keras.layers.Dense(1 , activation ='sigmoid',use_bias = True,) )\n",
        "\n",
        "\n",
        "model.compile(optimizer='adam', loss='binary_crossentropy', metrics=['accuracy'])\n",
        "\n",
        "model.fit(X, y , batch_size= 25  , epochs =35)\n",
        "\n",
        "plt.plot(model.history.history['accuracy'])\n",
        "plt.show()"
      ],
      "metadata": {
        "colab": {
          "base_uri": "https://localhost:8080/",
          "height": 1000
        },
        "id": "ItoMDlSJ1ag8",
        "outputId": "fb16d957-5d83-4b02-e5f7-086bdfa89e3c"
      },
      "execution_count": 25,
      "outputs": [
        {
          "output_type": "stream",
          "name": "stdout",
          "text": [
            "Epoch 1/35\n",
            "280/280 [==============================] - 5s 4ms/step - loss: 0.4021 - accuracy: 0.8187\n",
            "Epoch 2/35\n",
            "280/280 [==============================] - 2s 7ms/step - loss: 0.3230 - accuracy: 0.8691\n",
            "Epoch 3/35\n",
            "280/280 [==============================] - 2s 6ms/step - loss: 0.3030 - accuracy: 0.8751\n",
            "Epoch 4/35\n",
            "280/280 [==============================] - 2s 6ms/step - loss: 0.2855 - accuracy: 0.8814\n",
            "Epoch 5/35\n",
            "280/280 [==============================] - 1s 4ms/step - loss: 0.2800 - accuracy: 0.8830\n",
            "Epoch 6/35\n",
            "280/280 [==============================] - 1s 4ms/step - loss: 0.2724 - accuracy: 0.8881\n",
            "Epoch 7/35\n",
            "280/280 [==============================] - 1s 4ms/step - loss: 0.2737 - accuracy: 0.8851\n",
            "Epoch 8/35\n",
            "280/280 [==============================] - 1s 4ms/step - loss: 0.2577 - accuracy: 0.8960\n",
            "Epoch 9/35\n",
            "280/280 [==============================] - 1s 4ms/step - loss: 0.2608 - accuracy: 0.8923\n",
            "Epoch 10/35\n",
            "280/280 [==============================] - 2s 6ms/step - loss: 0.2561 - accuracy: 0.8943\n",
            "Epoch 11/35\n",
            "280/280 [==============================] - 2s 7ms/step - loss: 0.2516 - accuracy: 0.8967\n",
            "Epoch 12/35\n",
            "280/280 [==============================] - 2s 7ms/step - loss: 0.2499 - accuracy: 0.8963\n",
            "Epoch 13/35\n",
            "280/280 [==============================] - 2s 7ms/step - loss: 0.2354 - accuracy: 0.9050\n",
            "Epoch 14/35\n",
            "280/280 [==============================] - 2s 6ms/step - loss: 0.2375 - accuracy: 0.9037\n",
            "Epoch 15/35\n",
            "280/280 [==============================] - 2s 8ms/step - loss: 0.2326 - accuracy: 0.9037\n",
            "Epoch 16/35\n",
            "280/280 [==============================] - 1s 5ms/step - loss: 0.2348 - accuracy: 0.9040\n",
            "Epoch 17/35\n",
            "280/280 [==============================] - 1s 4ms/step - loss: 0.2235 - accuracy: 0.9071\n",
            "Epoch 18/35\n",
            "280/280 [==============================] - 1s 4ms/step - loss: 0.2298 - accuracy: 0.9043\n",
            "Epoch 19/35\n",
            "280/280 [==============================] - 1s 4ms/step - loss: 0.2373 - accuracy: 0.9057\n",
            "Epoch 20/35\n",
            "280/280 [==============================] - 1s 4ms/step - loss: 0.2639 - accuracy: 0.8896\n",
            "Epoch 21/35\n",
            "280/280 [==============================] - 1s 3ms/step - loss: 0.2174 - accuracy: 0.9093\n",
            "Epoch 22/35\n",
            "280/280 [==============================] - 1s 3ms/step - loss: 0.2173 - accuracy: 0.9070\n",
            "Epoch 23/35\n",
            "280/280 [==============================] - 1s 4ms/step - loss: 0.2197 - accuracy: 0.9056\n",
            "Epoch 24/35\n",
            "280/280 [==============================] - 1s 4ms/step - loss: 0.2045 - accuracy: 0.9151\n",
            "Epoch 25/35\n",
            "280/280 [==============================] - 1s 4ms/step - loss: 0.1985 - accuracy: 0.9193\n",
            "Epoch 26/35\n",
            "280/280 [==============================] - 2s 7ms/step - loss: 0.1972 - accuracy: 0.9206\n",
            "Epoch 27/35\n",
            "280/280 [==============================] - 2s 6ms/step - loss: 0.2409 - accuracy: 0.9070\n",
            "Epoch 28/35\n",
            "280/280 [==============================] - 2s 6ms/step - loss: 0.2236 - accuracy: 0.9083\n",
            "Epoch 29/35\n",
            "280/280 [==============================] - 1s 5ms/step - loss: 0.1887 - accuracy: 0.9216\n",
            "Epoch 30/35\n",
            "280/280 [==============================] - 1s 5ms/step - loss: 0.1991 - accuracy: 0.9161\n",
            "Epoch 31/35\n",
            "280/280 [==============================] - 1s 5ms/step - loss: 0.1841 - accuracy: 0.9266\n",
            "Epoch 32/35\n",
            "280/280 [==============================] - 1s 5ms/step - loss: 0.1924 - accuracy: 0.9173\n",
            "Epoch 33/35\n",
            "280/280 [==============================] - 1s 5ms/step - loss: 0.1870 - accuracy: 0.9183\n",
            "Epoch 34/35\n",
            "280/280 [==============================] - 1s 5ms/step - loss: 0.1946 - accuracy: 0.9207\n",
            "Epoch 35/35\n",
            "280/280 [==============================] - 1s 5ms/step - loss: 0.1847 - accuracy: 0.9207\n"
          ]
        },
        {
          "output_type": "display_data",
          "data": {
            "text/plain": [
              "<Figure size 640x480 with 1 Axes>"
            ],
            "image/png": "[encoded data removed]"
          },
          "metadata": {}
        }
      ]
    },
    {
      "cell_type": "code",
      "source": [
        "Xt = dft.drop('IXIC5' , axis=1)\n",
        "Xt = Xt.drop('IXIC52', axis=1)\n",
        "yt = dft['IXIC52']\n",
        "Xt = MinMaxScaler().fit_transform(Xt)\n",
        "\n",
        "\n",
        "# model.fit(Xt, yt, epochs=10)\n",
        "\n",
        "model.evaluate(Xt,yt)\n"
      ],
      "metadata": {
        "colab": {
          "base_uri": "https://localhost:8080/"
        },
        "id": "wff1enVGGozB",
        "outputId": "51288ec6-cc5d-4299-9025-5f29b5f28725"
      },
      "execution_count": 29,
      "outputs": [
        {
          "output_type": "stream",
          "name": "stdout",
          "text": [
            "124/124 [==============================] - 0s 2ms/step - loss: 0.3194 - accuracy: 0.8787\n"
          ]
        },
        {
          "output_type": "execute_result",
          "data": {
            "text/plain": [
              "[0.31936410069465637, 0.878726601600647]"
            ]
          },
          "metadata": {},
          "execution_count": 29
        }
      ]
    }
  ]
}